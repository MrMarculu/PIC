{
 "cells": [
  {
   "cell_type": "code",
   "execution_count": 1,
   "id": "22d09bfc",
   "metadata": {
    "_cell_guid": "b1076dfc-b9ad-4769-8c92-a6c4dae69d19",
    "_uuid": "8f2839f25d086af736a60e9eeb907d3b93b6e0e5",
    "execution": {
     "iopub.execute_input": "2024-04-26T00:44:17.067507Z",
     "iopub.status.busy": "2024-04-26T00:44:17.066705Z",
     "iopub.status.idle": "2024-04-26T00:44:19.018279Z",
     "shell.execute_reply": "2024-04-26T00:44:19.017502Z"
    },
    "papermill": {
     "duration": 1.96252,
     "end_time": "2024-04-26T00:44:19.020575",
     "exception": false,
     "start_time": "2024-04-26T00:44:17.058055",
     "status": "completed"
    },
    "tags": []
   },
   "outputs": [],
   "source": [
    "import pandas as pd\n",
    "import numpy as np\n",
    "import seaborn as sns\n",
    "import plotly.graph_objects as go"
   ]
  },
  {
   "cell_type": "code",
   "execution_count": 2,
   "id": "179207da",
   "metadata": {
    "execution": {
     "iopub.execute_input": "2024-04-26T00:44:19.035063Z",
     "iopub.status.busy": "2024-04-26T00:44:19.034084Z",
     "iopub.status.idle": "2024-04-26T00:44:19.090470Z",
     "shell.execute_reply": "2024-04-26T00:44:19.089620Z"
    },
    "papermill": {
     "duration": 0.065754,
     "end_time": "2024-04-26T00:44:19.092728",
     "exception": false,
     "start_time": "2024-04-26T00:44:19.026974",
     "status": "completed"
    },
    "tags": []
   },
   "outputs": [
    {
     "data": {
      "text/html": [
       "<div>\n",
       "<style scoped>\n",
       "    .dataframe tbody tr th:only-of-type {\n",
       "        vertical-align: middle;\n",
       "    }\n",
       "\n",
       "    .dataframe tbody tr th {\n",
       "        vertical-align: top;\n",
       "    }\n",
       "\n",
       "    .dataframe thead th {\n",
       "        text-align: right;\n",
       "    }\n",
       "</style>\n",
       "<table border=\"1\" class=\"dataframe\">\n",
       "  <thead>\n",
       "    <tr style=\"text-align: right;\">\n",
       "      <th></th>\n",
       "      <th>Date</th>\n",
       "      <th>Open</th>\n",
       "      <th>High</th>\n",
       "      <th>Low</th>\n",
       "      <th>Close</th>\n",
       "      <th>Volume</th>\n",
       "      <th>Dividends</th>\n",
       "      <th>Stock Splits</th>\n",
       "    </tr>\n",
       "  </thead>\n",
       "  <tbody>\n",
       "    <tr>\n",
       "      <th>3006</th>\n",
       "      <td>2018-05-04</td>\n",
       "      <td>182.432883</td>\n",
       "      <td>185.378674</td>\n",
       "      <td>181.765177</td>\n",
       "      <td>184.769882</td>\n",
       "      <td>3593600</td>\n",
       "      <td>0.0</td>\n",
       "      <td>0.0</td>\n",
       "    </tr>\n",
       "    <tr>\n",
       "      <th>1609</th>\n",
       "      <td>2012-10-12</td>\n",
       "      <td>44.818898</td>\n",
       "      <td>45.135578</td>\n",
       "      <td>44.512645</td>\n",
       "      <td>44.881474</td>\n",
       "      <td>8243000</td>\n",
       "      <td>0.0</td>\n",
       "      <td>0.0</td>\n",
       "    </tr>\n",
       "    <tr>\n",
       "      <th>414</th>\n",
       "      <td>2008-01-17</td>\n",
       "      <td>16.312848</td>\n",
       "      <td>16.819231</td>\n",
       "      <td>16.312848</td>\n",
       "      <td>16.556211</td>\n",
       "      <td>43309000</td>\n",
       "      <td>0.0</td>\n",
       "      <td>0.0</td>\n",
       "    </tr>\n",
       "    <tr>\n",
       "      <th>2554</th>\n",
       "      <td>2016-07-19</td>\n",
       "      <td>88.468584</td>\n",
       "      <td>89.632521</td>\n",
       "      <td>88.468584</td>\n",
       "      <td>89.603416</td>\n",
       "      <td>3423800</td>\n",
       "      <td>0.0</td>\n",
       "      <td>0.0</td>\n",
       "    </tr>\n",
       "    <tr>\n",
       "      <th>3602</th>\n",
       "      <td>2020-09-16</td>\n",
       "      <td>339.219110</td>\n",
       "      <td>343.950375</td>\n",
       "      <td>337.738117</td>\n",
       "      <td>339.785675</td>\n",
       "      <td>3049000</td>\n",
       "      <td>0.0</td>\n",
       "      <td>0.0</td>\n",
       "    </tr>\n",
       "  </tbody>\n",
       "</table>\n",
       "</div>"
      ],
      "text/plain": [
       "            Date        Open        High         Low       Close    Volume  \\\n",
       "3006  2018-05-04  182.432883  185.378674  181.765177  184.769882   3593600   \n",
       "1609  2012-10-12   44.818898   45.135578   44.512645   44.881474   8243000   \n",
       "414   2008-01-17   16.312848   16.819231   16.312848   16.556211  43309000   \n",
       "2554  2016-07-19   88.468584   89.632521   88.468584   89.603416   3423800   \n",
       "3602  2020-09-16  339.219110  343.950375  337.738117  339.785675   3049000   \n",
       "\n",
       "      Dividends  Stock Splits  \n",
       "3006        0.0           0.0  \n",
       "1609        0.0           0.0  \n",
       "414         0.0           0.0  \n",
       "2554        0.0           0.0  \n",
       "3602        0.0           0.0  "
      ]
     },
     "execution_count": 2,
     "metadata": {},
     "output_type": "execute_result"
    }
   ],
   "source": [
    "data = pd.read_csv('/kaggle/input/mastercard-stock-data-latest-and-updated/Mastercard_stock_history.csv')\n",
    "data.sample(5)"
   ]
  },
  {
   "cell_type": "markdown",
   "id": "0eb4378e",
   "metadata": {
    "papermill": {
     "duration": 0.006218,
     "end_time": "2024-04-26T00:44:19.105479",
     "exception": false,
     "start_time": "2024-04-26T00:44:19.099261",
     "status": "completed"
    },
    "tags": []
   },
   "source": [
    "# Análise de estátisticas - (DATA UNDERSTANDING)\n",
    "* 1. Estátisticas básicas\n",
    "* 2. Campos nulos\n",
    "* 3. Dimensão\n",
    "* 4. Correlação entre os dados\n"
   ]
  },
  {
   "cell_type": "markdown",
   "id": "00e41117",
   "metadata": {
    "papermill": {
     "duration": 0.006157,
     "end_time": "2024-04-26T00:44:19.118000",
     "exception": false,
     "start_time": "2024-04-26T00:44:19.111843",
     "status": "completed"
    },
    "tags": []
   },
   "source": [
    "## Tipo de dado e amostra"
   ]
  },
  {
   "cell_type": "code",
   "execution_count": 3,
   "id": "daecf004",
   "metadata": {
    "execution": {
     "iopub.execute_input": "2024-04-26T00:44:19.132365Z",
     "iopub.status.busy": "2024-04-26T00:44:19.131802Z",
     "iopub.status.idle": "2024-04-26T00:44:19.150847Z",
     "shell.execute_reply": "2024-04-26T00:44:19.149538Z"
    },
    "papermill": {
     "duration": 0.029077,
     "end_time": "2024-04-26T00:44:19.153327",
     "exception": false,
     "start_time": "2024-04-26T00:44:19.124250",
     "status": "completed"
    },
    "tags": []
   },
   "outputs": [
    {
     "name": "stdout",
     "output_type": "stream",
     "text": [
      "<class 'pandas.core.frame.DataFrame'>\n",
      "RangeIndex: 3872 entries, 0 to 3871\n",
      "Data columns (total 8 columns):\n",
      " #   Column        Non-Null Count  Dtype  \n",
      "---  ------        --------------  -----  \n",
      " 0   Date          3872 non-null   object \n",
      " 1   Open          3872 non-null   float64\n",
      " 2   High          3872 non-null   float64\n",
      " 3   Low           3872 non-null   float64\n",
      " 4   Close         3872 non-null   float64\n",
      " 5   Volume        3872 non-null   int64  \n",
      " 6   Dividends     3872 non-null   float64\n",
      " 7   Stock Splits  3872 non-null   float64\n",
      "dtypes: float64(6), int64(1), object(1)\n",
      "memory usage: 242.1+ KB\n"
     ]
    }
   ],
   "source": [
    "data.info()"
   ]
  },
  {
   "cell_type": "code",
   "execution_count": 4,
   "id": "1ae91a39",
   "metadata": {
    "execution": {
     "iopub.execute_input": "2024-04-26T00:44:19.169294Z",
     "iopub.status.busy": "2024-04-26T00:44:19.168636Z",
     "iopub.status.idle": "2024-04-26T00:44:19.198681Z",
     "shell.execute_reply": "2024-04-26T00:44:19.197637Z"
    },
    "papermill": {
     "duration": 0.039924,
     "end_time": "2024-04-26T00:44:19.200757",
     "exception": false,
     "start_time": "2024-04-26T00:44:19.160833",
     "status": "completed"
    },
    "tags": []
   },
   "outputs": [
    {
     "data": {
      "text/html": [
       "<div>\n",
       "<style scoped>\n",
       "    .dataframe tbody tr th:only-of-type {\n",
       "        vertical-align: middle;\n",
       "    }\n",
       "\n",
       "    .dataframe tbody tr th {\n",
       "        vertical-align: top;\n",
       "    }\n",
       "\n",
       "    .dataframe thead th {\n",
       "        text-align: right;\n",
       "    }\n",
       "</style>\n",
       "<table border=\"1\" class=\"dataframe\">\n",
       "  <thead>\n",
       "    <tr style=\"text-align: right;\">\n",
       "      <th></th>\n",
       "      <th>count</th>\n",
       "      <th>mean</th>\n",
       "      <th>std</th>\n",
       "      <th>min</th>\n",
       "      <th>25%</th>\n",
       "      <th>50%</th>\n",
       "      <th>75%</th>\n",
       "      <th>max</th>\n",
       "    </tr>\n",
       "  </thead>\n",
       "  <tbody>\n",
       "    <tr>\n",
       "      <th>Open</th>\n",
       "      <td>3872.0</td>\n",
       "      <td>1.048968e+02</td>\n",
       "      <td>1.062455e+02</td>\n",
       "      <td>3.748967</td>\n",
       "      <td>2.234720e+01</td>\n",
       "      <td>7.081008e+01</td>\n",
       "      <td>1.476884e+02</td>\n",
       "      <td>3.926539e+02</td>\n",
       "    </tr>\n",
       "    <tr>\n",
       "      <th>High</th>\n",
       "      <td>3872.0</td>\n",
       "      <td>1.059561e+02</td>\n",
       "      <td>1.073036e+02</td>\n",
       "      <td>4.102467</td>\n",
       "      <td>2.263800e+01</td>\n",
       "      <td>7.137590e+01</td>\n",
       "      <td>1.486454e+02</td>\n",
       "      <td>4.005215e+02</td>\n",
       "    </tr>\n",
       "    <tr>\n",
       "      <th>Low</th>\n",
       "      <td>3872.0</td>\n",
       "      <td>1.037693e+02</td>\n",
       "      <td>1.050501e+02</td>\n",
       "      <td>3.739664</td>\n",
       "      <td>2.203446e+01</td>\n",
       "      <td>7.022400e+01</td>\n",
       "      <td>1.468220e+02</td>\n",
       "      <td>3.897478e+02</td>\n",
       "    </tr>\n",
       "    <tr>\n",
       "      <th>Close</th>\n",
       "      <td>3872.0</td>\n",
       "      <td>1.048827e+02</td>\n",
       "      <td>1.061687e+02</td>\n",
       "      <td>4.083861</td>\n",
       "      <td>2.230039e+01</td>\n",
       "      <td>7.085608e+01</td>\n",
       "      <td>1.476884e+02</td>\n",
       "      <td>3.946857e+02</td>\n",
       "    </tr>\n",
       "    <tr>\n",
       "      <th>Volume</th>\n",
       "      <td>3872.0</td>\n",
       "      <td>1.232250e+07</td>\n",
       "      <td>1.759665e+07</td>\n",
       "      <td>641100.000000</td>\n",
       "      <td>3.529475e+06</td>\n",
       "      <td>5.891750e+06</td>\n",
       "      <td>1.319775e+07</td>\n",
       "      <td>3.953430e+08</td>\n",
       "    </tr>\n",
       "    <tr>\n",
       "      <th>Dividends</th>\n",
       "      <td>3872.0</td>\n",
       "      <td>2.329029e-03</td>\n",
       "      <td>2.585085e-02</td>\n",
       "      <td>0.000000</td>\n",
       "      <td>0.000000e+00</td>\n",
       "      <td>0.000000e+00</td>\n",
       "      <td>0.000000e+00</td>\n",
       "      <td>4.400000e-01</td>\n",
       "    </tr>\n",
       "    <tr>\n",
       "      <th>Stock Splits</th>\n",
       "      <td>3872.0</td>\n",
       "      <td>2.582645e-03</td>\n",
       "      <td>1.607061e-01</td>\n",
       "      <td>0.000000</td>\n",
       "      <td>0.000000e+00</td>\n",
       "      <td>0.000000e+00</td>\n",
       "      <td>0.000000e+00</td>\n",
       "      <td>1.000000e+01</td>\n",
       "    </tr>\n",
       "  </tbody>\n",
       "</table>\n",
       "</div>"
      ],
      "text/plain": [
       "               count          mean           std            min           25%  \\\n",
       "Open          3872.0  1.048968e+02  1.062455e+02       3.748967  2.234720e+01   \n",
       "High          3872.0  1.059561e+02  1.073036e+02       4.102467  2.263800e+01   \n",
       "Low           3872.0  1.037693e+02  1.050501e+02       3.739664  2.203446e+01   \n",
       "Close         3872.0  1.048827e+02  1.061687e+02       4.083861  2.230039e+01   \n",
       "Volume        3872.0  1.232250e+07  1.759665e+07  641100.000000  3.529475e+06   \n",
       "Dividends     3872.0  2.329029e-03  2.585085e-02       0.000000  0.000000e+00   \n",
       "Stock Splits  3872.0  2.582645e-03  1.607061e-01       0.000000  0.000000e+00   \n",
       "\n",
       "                       50%           75%           max  \n",
       "Open          7.081008e+01  1.476884e+02  3.926539e+02  \n",
       "High          7.137590e+01  1.486454e+02  4.005215e+02  \n",
       "Low           7.022400e+01  1.468220e+02  3.897478e+02  \n",
       "Close         7.085608e+01  1.476884e+02  3.946857e+02  \n",
       "Volume        5.891750e+06  1.319775e+07  3.953430e+08  \n",
       "Dividends     0.000000e+00  0.000000e+00  4.400000e-01  \n",
       "Stock Splits  0.000000e+00  0.000000e+00  1.000000e+01  "
      ]
     },
     "execution_count": 4,
     "metadata": {},
     "output_type": "execute_result"
    }
   ],
   "source": [
    "data.describe().T"
   ]
  },
  {
   "cell_type": "markdown",
   "id": "214ef778",
   "metadata": {
    "papermill": {
     "duration": 0.007591,
     "end_time": "2024-04-26T00:44:19.215228",
     "exception": false,
     "start_time": "2024-04-26T00:44:19.207637",
     "status": "completed"
    },
    "tags": []
   },
   "source": [
    "## Dados em falta"
   ]
  },
  {
   "cell_type": "code",
   "execution_count": 5,
   "id": "b78acb01",
   "metadata": {
    "execution": {
     "iopub.execute_input": "2024-04-26T00:44:19.230760Z",
     "iopub.status.busy": "2024-04-26T00:44:19.230144Z",
     "iopub.status.idle": "2024-04-26T00:44:19.238067Z",
     "shell.execute_reply": "2024-04-26T00:44:19.237210Z"
    },
    "papermill": {
     "duration": 0.017975,
     "end_time": "2024-04-26T00:44:19.239943",
     "exception": false,
     "start_time": "2024-04-26T00:44:19.221968",
     "status": "completed"
    },
    "tags": []
   },
   "outputs": [
    {
     "data": {
      "text/plain": [
       "Date            0\n",
       "Open            0\n",
       "High            0\n",
       "Low             0\n",
       "Close           0\n",
       "Volume          0\n",
       "Dividends       0\n",
       "Stock Splits    0\n",
       "dtype: int64"
      ]
     },
     "execution_count": 5,
     "metadata": {},
     "output_type": "execute_result"
    }
   ],
   "source": [
    "data.isnull().sum()"
   ]
  },
  {
   "cell_type": "code",
   "execution_count": 6,
   "id": "9b37c0ed",
   "metadata": {
    "execution": {
     "iopub.execute_input": "2024-04-26T00:44:19.255508Z",
     "iopub.status.busy": "2024-04-26T00:44:19.254940Z",
     "iopub.status.idle": "2024-04-26T00:44:19.262856Z",
     "shell.execute_reply": "2024-04-26T00:44:19.261863Z"
    },
    "papermill": {
     "duration": 0.017906,
     "end_time": "2024-04-26T00:44:19.264727",
     "exception": false,
     "start_time": "2024-04-26T00:44:19.246821",
     "status": "completed"
    },
    "tags": []
   },
   "outputs": [
    {
     "data": {
      "text/plain": [
       "Date            0\n",
       "Open            0\n",
       "High            0\n",
       "Low             0\n",
       "Close           0\n",
       "Volume          0\n",
       "Dividends       0\n",
       "Stock Splits    0\n",
       "dtype: int64"
      ]
     },
     "execution_count": 6,
     "metadata": {},
     "output_type": "execute_result"
    }
   ],
   "source": [
    "data.isna().sum()"
   ]
  },
  {
   "cell_type": "markdown",
   "id": "ec5263b0",
   "metadata": {
    "papermill": {
     "duration": 0.00668,
     "end_time": "2024-04-26T00:44:19.278493",
     "exception": false,
     "start_time": "2024-04-26T00:44:19.271813",
     "status": "completed"
    },
    "tags": []
   },
   "source": [
    "## Definir data como INDEX"
   ]
  },
  {
   "cell_type": "code",
   "execution_count": 7,
   "id": "1ba6f893",
   "metadata": {
    "execution": {
     "iopub.execute_input": "2024-04-26T00:44:19.294507Z",
     "iopub.status.busy": "2024-04-26T00:44:19.294131Z",
     "iopub.status.idle": "2024-04-26T00:44:19.306793Z",
     "shell.execute_reply": "2024-04-26T00:44:19.305558Z"
    },
    "papermill": {
     "duration": 0.023559,
     "end_time": "2024-04-26T00:44:19.308952",
     "exception": false,
     "start_time": "2024-04-26T00:44:19.285393",
     "status": "completed"
    },
    "tags": []
   },
   "outputs": [
    {
     "name": "stdout",
     "output_type": "stream",
     "text": [
      "None\n"
     ]
    }
   ],
   "source": [
    "data['Date'] = pd.to_datetime(data['Date'])\n",
    "\n",
    "data.set_index('Date', inplace=True)\n",
    "\n",
    "#data = data.asfreq('D')\n",
    "data = data.dropna()\n",
    "# Verificando a frequência\n",
    "print(data.index.freq)"
   ]
  },
  {
   "cell_type": "code",
   "execution_count": 8,
   "id": "b3777507",
   "metadata": {
    "execution": {
     "iopub.execute_input": "2024-04-26T00:44:19.325011Z",
     "iopub.status.busy": "2024-04-26T00:44:19.324382Z",
     "iopub.status.idle": "2024-04-26T00:44:19.331981Z",
     "shell.execute_reply": "2024-04-26T00:44:19.330963Z"
    },
    "papermill": {
     "duration": 0.017608,
     "end_time": "2024-04-26T00:44:19.333879",
     "exception": false,
     "start_time": "2024-04-26T00:44:19.316271",
     "status": "completed"
    },
    "tags": []
   },
   "outputs": [
    {
     "data": {
      "text/plain": [
       "DatetimeIndex(['2006-05-25', '2006-05-26', '2006-05-30', '2006-05-31',\n",
       "               '2006-06-01', '2006-06-02', '2006-06-05', '2006-06-06',\n",
       "               '2006-06-07', '2006-06-08',\n",
       "               ...\n",
       "               '2021-09-28', '2021-09-29', '2021-09-30', '2021-10-01',\n",
       "               '2021-10-04', '2021-10-05', '2021-10-06', '2021-10-07',\n",
       "               '2021-10-08', '2021-10-11'],\n",
       "              dtype='datetime64[ns]', name='Date', length=3872, freq=None)"
      ]
     },
     "execution_count": 8,
     "metadata": {},
     "output_type": "execute_result"
    }
   ],
   "source": [
    "data.index"
   ]
  },
  {
   "cell_type": "markdown",
   "id": "a9759abd",
   "metadata": {
    "papermill": {
     "duration": 0.007024,
     "end_time": "2024-04-26T00:44:19.348226",
     "exception": false,
     "start_time": "2024-04-26T00:44:19.341202",
     "status": "completed"
    },
    "tags": []
   },
   "source": [
    "## Dimensionalidade e correlação"
   ]
  },
  {
   "cell_type": "code",
   "execution_count": 9,
   "id": "1493b2d3",
   "metadata": {
    "execution": {
     "iopub.execute_input": "2024-04-26T00:44:19.364294Z",
     "iopub.status.busy": "2024-04-26T00:44:19.363710Z",
     "iopub.status.idle": "2024-04-26T00:44:19.369435Z",
     "shell.execute_reply": "2024-04-26T00:44:19.368627Z"
    },
    "papermill": {
     "duration": 0.016081,
     "end_time": "2024-04-26T00:44:19.371475",
     "exception": false,
     "start_time": "2024-04-26T00:44:19.355394",
     "status": "completed"
    },
    "tags": []
   },
   "outputs": [
    {
     "data": {
      "text/plain": [
       "(3872, 7)"
      ]
     },
     "execution_count": 9,
     "metadata": {},
     "output_type": "execute_result"
    }
   ],
   "source": [
    "data.shape"
   ]
  },
  {
   "cell_type": "code",
   "execution_count": 10,
   "id": "55a50fc5",
   "metadata": {
    "execution": {
     "iopub.execute_input": "2024-04-26T00:44:19.387759Z",
     "iopub.status.busy": "2024-04-26T00:44:19.387396Z",
     "iopub.status.idle": "2024-04-26T00:44:19.941340Z",
     "shell.execute_reply": "2024-04-26T00:44:19.940352Z"
    },
    "papermill": {
     "duration": 0.564541,
     "end_time": "2024-04-26T00:44:19.943469",
     "exception": false,
     "start_time": "2024-04-26T00:44:19.378928",
     "status": "completed"
    },
    "tags": []
   },
   "outputs": [
    {
     "data": {
      "text/plain": [
       "<Axes: >"
      ]
     },
     "execution_count": 10,
     "metadata": {},
     "output_type": "execute_result"
    },
    {
     "data": {
      "image/png": "[encoded data removed]",
      "text/plain": [
       "<Figure size 640x480 with 2 Axes>"
      ]
     },
     "metadata": {},
     "output_type": "display_data"
    }
   ],
   "source": [
    "palette = sns.color_palette(\"mako\", as_cmap=True)\n",
    "corr = data.corr()\n",
    "\n",
    "sns.heatmap(data=corr,cmap=palette,annot=True)"
   ]
  },
  {
   "cell_type": "markdown",
   "id": "9809434c",
   "metadata": {
    "papermill": {
     "duration": 0.008237,
     "end_time": "2024-04-26T00:44:19.960482",
     "exception": false,
     "start_time": "2024-04-26T00:44:19.952245",
     "status": "completed"
    },
    "tags": []
   },
   "source": [
    "Existe correlação total entre Open,High,Low e Close"
   ]
  },
  {
   "cell_type": "markdown",
   "id": "be26ae85",
   "metadata": {
    "papermill": {
     "duration": 0.00904,
     "end_time": "2024-04-26T00:44:19.977986",
     "exception": false,
     "start_time": "2024-04-26T00:44:19.968946",
     "status": "completed"
    },
    "tags": []
   },
   "source": [
    "# Análise visual:\n",
    "* 1. Teste ANOVA\n",
    "* 2. Análise de tendência: média móvel, regressão, análise de decomposição, modelo ARIMA\n"
   ]
  },
  {
   "cell_type": "markdown",
   "id": "b1c4a64a",
   "metadata": {
    "papermill": {
     "duration": 0.008027,
     "end_time": "2024-04-26T00:44:19.994452",
     "exception": false,
     "start_time": "2024-04-26T00:44:19.986425",
     "status": "completed"
    },
    "tags": []
   },
   "source": [
    "## Teste anova"
   ]
  },
  {
   "cell_type": "code",
   "execution_count": 11,
   "id": "f11e3a0a",
   "metadata": {
    "execution": {
     "iopub.execute_input": "2024-04-26T00:44:20.012829Z",
     "iopub.status.busy": "2024-04-26T00:44:20.012434Z",
     "iopub.status.idle": "2024-04-26T00:44:20.022574Z",
     "shell.execute_reply": "2024-04-26T00:44:20.021496Z"
    },
    "papermill": {
     "duration": 0.021921,
     "end_time": "2024-04-26T00:44:20.024603",
     "exception": false,
     "start_time": "2024-04-26T00:44:20.002682",
     "status": "completed"
    },
    "tags": []
   },
   "outputs": [
    {
     "name": "stdout",
     "output_type": "stream",
     "text": [
      "Estatística F (Variaveis com alta compatibilidade): 0.27372092466418846\n",
      "Valor p: 0.8443976304546679\n",
      "\n",
      "\n",
      "Estatística F (Variaveis com baixa compatibilidade): 1898.762362151304\n",
      "Valor p: 0.0\n"
     ]
    }
   ],
   "source": [
    "from scipy.stats import f_oneway\n",
    "\n",
    "\n",
    "anova1 = f_oneway(data['Close'], data['Volume'], data['Stock Splits'], data['Dividends'])\n",
    "anova2 = f_oneway(data['Close'], data['Open'], data['High'], data['Low'])\n",
    "\n",
    "print(\"Estatística F (Variaveis com alta compatibilidade):\", anova2.statistic)\n",
    "print(\"Valor p:\", anova2.pvalue)\n",
    "\n",
    "print('\\n')\n",
    "print(\"Estatística F (Variaveis com baixa compatibilidade):\", anova1.statistic)\n",
    "print(\"Valor p:\", anova1.pvalue)"
   ]
  },
  {
   "cell_type": "code",
   "execution_count": 12,
   "id": "61a1fc31",
   "metadata": {
    "execution": {
     "iopub.execute_input": "2024-04-26T00:44:20.043410Z",
     "iopub.status.busy": "2024-04-26T00:44:20.042391Z",
     "iopub.status.idle": "2024-04-26T00:44:20.065061Z",
     "shell.execute_reply": "2024-04-26T00:44:20.064001Z"
    },
    "papermill": {
     "duration": 0.034246,
     "end_time": "2024-04-26T00:44:20.067197",
     "exception": false,
     "start_time": "2024-04-26T00:44:20.032951",
     "status": "completed"
    },
    "tags": []
   },
   "outputs": [
    {
     "data": {
      "text/html": [
       "<div>\n",
       "<style scoped>\n",
       "    .dataframe tbody tr th:only-of-type {\n",
       "        vertical-align: middle;\n",
       "    }\n",
       "\n",
       "    .dataframe tbody tr th {\n",
       "        vertical-align: top;\n",
       "    }\n",
       "\n",
       "    .dataframe thead th {\n",
       "        text-align: right;\n",
       "    }\n",
       "</style>\n",
       "<table border=\"1\" class=\"dataframe\">\n",
       "  <thead>\n",
       "    <tr style=\"text-align: right;\">\n",
       "      <th></th>\n",
       "      <th>Coluna 1</th>\n",
       "      <th>Coluna 2</th>\n",
       "      <th>Estatística F</th>\n",
       "      <th>Valor p</th>\n",
       "    </tr>\n",
       "  </thead>\n",
       "  <tbody>\n",
       "    <tr>\n",
       "      <th>0</th>\n",
       "      <td>Open</td>\n",
       "      <td>High</td>\n",
       "      <td>0.190523</td>\n",
       "      <td>0.662494</td>\n",
       "    </tr>\n",
       "    <tr>\n",
       "      <th>1</th>\n",
       "      <td>Open</td>\n",
       "      <td>Low</td>\n",
       "      <td>0.220484</td>\n",
       "      <td>0.638685</td>\n",
       "    </tr>\n",
       "    <tr>\n",
       "      <th>2</th>\n",
       "      <td>Open</td>\n",
       "      <td>Close</td>\n",
       "      <td>0.000034</td>\n",
       "      <td>0.995339</td>\n",
       "    </tr>\n",
       "    <tr>\n",
       "      <th>3</th>\n",
       "      <td>Open</td>\n",
       "      <td>Volume</td>\n",
       "      <td>1898.740810</td>\n",
       "      <td>0.000000</td>\n",
       "    </tr>\n",
       "    <tr>\n",
       "      <th>4</th>\n",
       "      <td>Open</td>\n",
       "      <td>Dividends</td>\n",
       "      <td>3774.152577</td>\n",
       "      <td>0.000000</td>\n",
       "    </tr>\n",
       "    <tr>\n",
       "      <th>5</th>\n",
       "      <td>Open</td>\n",
       "      <td>Stock Splits</td>\n",
       "      <td>3774.125915</td>\n",
       "      <td>0.000000</td>\n",
       "    </tr>\n",
       "    <tr>\n",
       "      <th>6</th>\n",
       "      <td>High</td>\n",
       "      <td>Low</td>\n",
       "      <td>0.821065</td>\n",
       "      <td>0.364897</td>\n",
       "    </tr>\n",
       "    <tr>\n",
       "      <th>7</th>\n",
       "      <td>High</td>\n",
       "      <td>Close</td>\n",
       "      <td>0.195769</td>\n",
       "      <td>0.658170</td>\n",
       "    </tr>\n",
       "    <tr>\n",
       "      <th>8</th>\n",
       "      <td>High</td>\n",
       "      <td>Volume</td>\n",
       "      <td>1898.740483</td>\n",
       "      <td>0.000000</td>\n",
       "    </tr>\n",
       "    <tr>\n",
       "      <th>9</th>\n",
       "      <td>High</td>\n",
       "      <td>Dividends</td>\n",
       "      <td>3775.194140</td>\n",
       "      <td>0.000000</td>\n",
       "    </tr>\n",
       "    <tr>\n",
       "      <th>10</th>\n",
       "      <td>High</td>\n",
       "      <td>Stock Splits</td>\n",
       "      <td>3775.167818</td>\n",
       "      <td>0.000000</td>\n",
       "    </tr>\n",
       "    <tr>\n",
       "      <th>11</th>\n",
       "      <td>Low</td>\n",
       "      <td>Close</td>\n",
       "      <td>0.215161</td>\n",
       "      <td>0.642765</td>\n",
       "    </tr>\n",
       "    <tr>\n",
       "      <th>12</th>\n",
       "      <td>Low</td>\n",
       "      <td>Volume</td>\n",
       "      <td>1898.741157</td>\n",
       "      <td>0.000000</td>\n",
       "    </tr>\n",
       "    <tr>\n",
       "      <th>13</th>\n",
       "      <td>Low</td>\n",
       "      <td>Dividends</td>\n",
       "      <td>3777.994922</td>\n",
       "      <td>0.000000</td>\n",
       "    </tr>\n",
       "    <tr>\n",
       "      <th>14</th>\n",
       "      <td>Low</td>\n",
       "      <td>Stock Splits</td>\n",
       "      <td>3777.967841</td>\n",
       "      <td>0.000000</td>\n",
       "    </tr>\n",
       "    <tr>\n",
       "      <th>15</th>\n",
       "      <td>Close</td>\n",
       "      <td>Volume</td>\n",
       "      <td>1898.740814</td>\n",
       "      <td>0.000000</td>\n",
       "    </tr>\n",
       "    <tr>\n",
       "      <th>16</th>\n",
       "      <td>Close</td>\n",
       "      <td>Dividends</td>\n",
       "      <td>3778.600107</td>\n",
       "      <td>0.000000</td>\n",
       "    </tr>\n",
       "    <tr>\n",
       "      <th>17</th>\n",
       "      <td>Close</td>\n",
       "      <td>Stock Splits</td>\n",
       "      <td>3778.573399</td>\n",
       "      <td>0.000000</td>\n",
       "    </tr>\n",
       "    <tr>\n",
       "      <th>18</th>\n",
       "      <td>Volume</td>\n",
       "      <td>Dividends</td>\n",
       "      <td>1898.773136</td>\n",
       "      <td>0.000000</td>\n",
       "    </tr>\n",
       "    <tr>\n",
       "      <th>19</th>\n",
       "      <td>Volume</td>\n",
       "      <td>Stock Splits</td>\n",
       "      <td>1898.773136</td>\n",
       "      <td>0.000000</td>\n",
       "    </tr>\n",
       "    <tr>\n",
       "      <th>20</th>\n",
       "      <td>Dividends</td>\n",
       "      <td>Stock Splits</td>\n",
       "      <td>0.009400</td>\n",
       "      <td>0.922766</td>\n",
       "    </tr>\n",
       "  </tbody>\n",
       "</table>\n",
       "</div>"
      ],
      "text/plain": [
       "     Coluna 1      Coluna 2  Estatística F   Valor p\n",
       "0        Open          High       0.190523  0.662494\n",
       "1        Open           Low       0.220484  0.638685\n",
       "2        Open         Close       0.000034  0.995339\n",
       "3        Open        Volume    1898.740810  0.000000\n",
       "4        Open     Dividends    3774.152577  0.000000\n",
       "5        Open  Stock Splits    3774.125915  0.000000\n",
       "6        High           Low       0.821065  0.364897\n",
       "7        High         Close       0.195769  0.658170\n",
       "8        High        Volume    1898.740483  0.000000\n",
       "9        High     Dividends    3775.194140  0.000000\n",
       "10       High  Stock Splits    3775.167818  0.000000\n",
       "11        Low         Close       0.215161  0.642765\n",
       "12        Low        Volume    1898.741157  0.000000\n",
       "13        Low     Dividends    3777.994922  0.000000\n",
       "14        Low  Stock Splits    3777.967841  0.000000\n",
       "15      Close        Volume    1898.740814  0.000000\n",
       "16      Close     Dividends    3778.600107  0.000000\n",
       "17      Close  Stock Splits    3778.573399  0.000000\n",
       "18     Volume     Dividends    1898.773136  0.000000\n",
       "19     Volume  Stock Splits    1898.773136  0.000000\n",
       "20  Dividends  Stock Splits       0.009400  0.922766"
      ]
     },
     "execution_count": 12,
     "metadata": {},
     "output_type": "execute_result"
    }
   ],
   "source": [
    "import pandas as pd\n",
    "from itertools import combinations\n",
    "from scipy.stats import f_oneway\n",
    "\n",
    "resultado_anova = []\n",
    "pares_de_colunas = combinations(data.columns, 2)\n",
    "for par in pares_de_colunas:\n",
    "    anova = f_oneway(data[par[0]], data[par[1]])\n",
    "    resultado_anova.append({'Coluna 1': par[0], 'Coluna 2': par[1], 'Estatística F': anova.statistic, 'Valor p': anova.pvalue})\n",
    "    \n",
    "df_resultado = pd.DataFrame(resultado_anova)\n",
    "df_resultado"
   ]
  },
  {
   "cell_type": "markdown",
   "id": "97d4adcf",
   "metadata": {
    "papermill": {
     "duration": 0.00846,
     "end_time": "2024-04-26T00:44:20.084439",
     "exception": false,
     "start_time": "2024-04-26T00:44:20.075979",
     "status": "completed"
    },
    "tags": []
   },
   "source": [
    "## Análise de média móvel"
   ]
  },
  {
   "cell_type": "markdown",
   "id": "87448b0d",
   "metadata": {
    "papermill": {
     "duration": 0.008528,
     "end_time": "2024-04-26T00:44:20.101719",
     "exception": false,
     "start_time": "2024-04-26T00:44:20.093191",
     "status": "completed"
    },
    "tags": []
   },
   "source": [
    "Suavizar a os fechamentos mensais e verificar se há declinio ou aumento"
   ]
  },
  {
   "cell_type": "code",
   "execution_count": 13,
   "id": "866c0fcf",
   "metadata": {
    "execution": {
     "iopub.execute_input": "2024-04-26T00:44:20.121264Z",
     "iopub.status.busy": "2024-04-26T00:44:20.120379Z",
     "iopub.status.idle": "2024-04-26T00:44:21.086069Z",
     "shell.execute_reply": "2024-04-26T00:44:21.085011Z"
    },
    "papermill": {
     "duration": 0.977843,
     "end_time": "2024-04-26T00:44:21.088332",
     "exception": false,
     "start_time": "2024-04-26T00:44:20.110489",
     "status": "completed"
    },
    "tags": []
   },
   "outputs": [
    {
     "data": {
      "text/html": [
       "<iframe\n",
       "    scrolling=\"no\"\n",
       "    width=\"100%\"\n",
       "    height=\"545px\"\n",
       "    src=\"iframe_figures/figure_13.html\"\n",
       "    frameborder=\"0\"\n",
       "    allowfullscreen\n",
       "></iframe>\n"
      ]
     },
     "metadata": {},
     "output_type": "display_data"
    }
   ],
   "source": [
    "from sklearn.linear_model import LinearRegression as lr\n",
    "\n",
    "data['mediamovel'] = data['Dividends'].rolling(window=30, min_periods=1).mean()\n",
    "\n",
    "X = np.arange(len(data)).reshape(-1, 1)\n",
    "y = data['Dividends']\n",
    "\n",
    "model = lr()\n",
    "model.fit(X, y)\n",
    "pred = model.predict(X)\n",
    "\n",
    "fig = go.Figure()\n",
    "fig.add_trace(go.Scatter(x=data.index, y=data['Dividends'], mode='lines', name='Original'))\n",
    "fig.add_trace(go.Scatter(x=data.index, y=data['mediamovel'], mode='lines', name='Média móvel'))\n",
    "fig.add_trace(go.Scatter(x=data.index,y=pred,mode='lines',name='pela regressão linear'))\n",
    "fig.update_layout(title='Série Temporal com Média Móvel: dividendos',\n",
    "                  xaxis_title='Data',\n",
    "                  yaxis_title='Valor',\n",
    "                  hovermode='x')\n",
    "\n",
    "data = data.drop(columns=['mediamovel'])\n",
    "\n",
    "fig.show(renderer='iframe')"
   ]
  },
  {
   "cell_type": "code",
   "execution_count": 14,
   "id": "1c2f7819",
   "metadata": {
    "execution": {
     "iopub.execute_input": "2024-04-26T00:44:21.107698Z",
     "iopub.status.busy": "2024-04-26T00:44:21.107294Z",
     "iopub.status.idle": "2024-04-26T00:44:21.301337Z",
     "shell.execute_reply": "2024-04-26T00:44:21.300330Z"
    },
    "papermill": {
     "duration": 0.20643,
     "end_time": "2024-04-26T00:44:21.303748",
     "exception": false,
     "start_time": "2024-04-26T00:44:21.097318",
     "status": "completed"
    },
    "tags": []
   },
   "outputs": [
    {
     "data": {
      "text/html": [
       "<iframe\n",
       "    scrolling=\"no\"\n",
       "    width=\"100%\"\n",
       "    height=\"545px\"\n",
       "    src=\"iframe_figures/figure_14.html\"\n",
       "    frameborder=\"0\"\n",
       "    allowfullscreen\n",
       "></iframe>\n"
      ]
     },
     "metadata": {},
     "output_type": "display_data"
    }
   ],
   "source": [
    "from sklearn.linear_model import LinearRegression as lr\n",
    "\n",
    "data['mediamovel'] = data['Close'].rolling(window=30, min_periods=1).mean()\n",
    "\n",
    "X = np.arange(len(data)).reshape(-1, 1)\n",
    "y = data['Close']\n",
    "\n",
    "model = lr()\n",
    "model.fit(X, y)\n",
    "pred = model.predict(X)\n",
    "\n",
    "fig = go.Figure()\n",
    "fig.add_trace(go.Scatter(x=data.index, y=data['Close'], mode='lines', name='Original'))\n",
    "fig.add_trace(go.Scatter(x=data.index, y=data['mediamovel'], mode='lines', name='Média móvel'))\n",
    "fig.add_trace(go.Scatter(x=data.index,y=pred,mode='lines',name='Tendência pela regressão linear'))\n",
    "fig.update_layout(title='Série Temporal com Média Móvel: Fechamento',\n",
    "                  xaxis_title='Data',\n",
    "                  yaxis_title='Valor',\n",
    "                  hovermode='x')\n",
    "\n",
    "data = data.drop(columns=['mediamovel'])\n",
    "\n",
    "fig.show(renderer='iframe')"
   ]
  },
  {
   "cell_type": "code",
   "execution_count": 15,
   "id": "363a8214",
   "metadata": {
    "execution": {
     "iopub.execute_input": "2024-04-26T00:44:21.323413Z",
     "iopub.status.busy": "2024-04-26T00:44:21.323041Z",
     "iopub.status.idle": "2024-04-26T00:44:21.518145Z",
     "shell.execute_reply": "2024-04-26T00:44:21.517136Z"
    },
    "papermill": {
     "duration": 0.207471,
     "end_time": "2024-04-26T00:44:21.520294",
     "exception": false,
     "start_time": "2024-04-26T00:44:21.312823",
     "status": "completed"
    },
    "tags": []
   },
   "outputs": [
    {
     "data": {
      "text/html": [
       "<iframe\n",
       "    scrolling=\"no\"\n",
       "    width=\"100%\"\n",
       "    height=\"545px\"\n",
       "    src=\"iframe_figures/figure_15.html\"\n",
       "    frameborder=\"0\"\n",
       "    allowfullscreen\n",
       "></iframe>\n"
      ]
     },
     "metadata": {},
     "output_type": "display_data"
    }
   ],
   "source": [
    "from sklearn.linear_model import LinearRegression as lr\n",
    "\n",
    "data['mediamovel'] = data['Volume'].rolling(window=30, min_periods=1).mean()\n",
    "\n",
    "X = np.arange(len(data)).reshape(-1, 1)\n",
    "y = data['Volume']\n",
    "\n",
    "model = lr()\n",
    "model.fit(X, y)\n",
    "pred = model.predict(X)\n",
    "\n",
    "fig = go.Figure()\n",
    "fig.add_trace(go.Scatter(x=data.index, y=data['Volume'], mode='lines', name='Original'))\n",
    "fig.add_trace(go.Scatter(x=data.index, y=data['mediamovel'], mode='lines', name='Média móvel'))\n",
    "fig.add_trace(go.Scatter(x=data.index,y=pred,mode='lines',name='Tendência pela regressão linear'))\n",
    "fig.update_layout(title='Série Temporal com Média Móvel: Volume',\n",
    "                  xaxis_title='Data',\n",
    "                  yaxis_title='Valor',\n",
    "                  hovermode='x')\n",
    "\n",
    "data = data.drop(columns=['mediamovel'])\n",
    "\n",
    "fig.show(renderer='iframe')"
   ]
  },
  {
   "cell_type": "code",
   "execution_count": 16,
   "id": "b0841509",
   "metadata": {
    "execution": {
     "iopub.execute_input": "2024-04-26T00:44:21.540491Z",
     "iopub.status.busy": "2024-04-26T00:44:21.540107Z",
     "iopub.status.idle": "2024-04-26T00:44:21.732443Z",
     "shell.execute_reply": "2024-04-26T00:44:21.731442Z"
    },
    "papermill": {
     "duration": 0.204904,
     "end_time": "2024-04-26T00:44:21.734689",
     "exception": false,
     "start_time": "2024-04-26T00:44:21.529785",
     "status": "completed"
    },
    "tags": []
   },
   "outputs": [
    {
     "data": {
      "text/html": [
       "<iframe\n",
       "    scrolling=\"no\"\n",
       "    width=\"100%\"\n",
       "    height=\"545px\"\n",
       "    src=\"iframe_figures/figure_16.html\"\n",
       "    frameborder=\"0\"\n",
       "    allowfullscreen\n",
       "></iframe>\n"
      ]
     },
     "metadata": {},
     "output_type": "display_data"
    }
   ],
   "source": [
    "from sklearn.linear_model import LinearRegression as lr\n",
    "\n",
    "data['mediamovel'] = data['Stock Splits'].rolling(window=30, min_periods=1).mean()\n",
    "\n",
    "X = np.arange(len(data)).reshape(-1, 1)\n",
    "y = data['Stock Splits']\n",
    "\n",
    "model = lr()\n",
    "model.fit(X, y)\n",
    "pred = model.predict(X)\n",
    "\n",
    "fig = go.Figure()\n",
    "fig.add_trace(go.Scatter(x=data.index, y=data['Stock Splits'], mode='lines', name='Original'))\n",
    "fig.add_trace(go.Scatter(x=data.index, y=data['mediamovel'], mode='lines', name='Média móvel'))\n",
    "fig.add_trace(go.Scatter(x=data.index,y=pred,mode='lines',name='Tendência pela regressão linear'))\n",
    "fig.update_layout(title='Série Temporal com Média Móvel: Divisão de ações ',\n",
    "                  xaxis_title='Data',\n",
    "                  yaxis_title='Valor',\n",
    "                  hovermode='x')\n",
    "\n",
    "data = data.drop(columns=['mediamovel'])\n",
    "\n",
    "fig.show(renderer='iframe')"
   ]
  },
  {
   "cell_type": "markdown",
   "id": "b50a9783",
   "metadata": {
    "papermill": {
     "duration": 0.008804,
     "end_time": "2024-04-26T00:44:21.752772",
     "exception": false,
     "start_time": "2024-04-26T00:44:21.743968",
     "status": "completed"
    },
    "tags": []
   },
   "source": [
    "## Análise de decomposição por adição"
   ]
  },
  {
   "cell_type": "markdown",
   "id": "13fed3b3",
   "metadata": {
    "papermill": {
     "duration": 0.008939,
     "end_time": "2024-04-26T00:44:21.770821",
     "exception": false,
     "start_time": "2024-04-26T00:44:21.761882",
     "status": "completed"
    },
    "tags": []
   },
   "source": [
    "Análise de sazonalidade e tendência"
   ]
  },
  {
   "cell_type": "code",
   "execution_count": 17,
   "id": "650ae188",
   "metadata": {
    "execution": {
     "iopub.execute_input": "2024-04-26T00:44:21.790448Z",
     "iopub.status.busy": "2024-04-26T00:44:21.790078Z",
     "iopub.status.idle": "2024-04-26T00:44:23.459851Z",
     "shell.execute_reply": "2024-04-26T00:44:23.458958Z"
    },
    "papermill": {
     "duration": 1.682586,
     "end_time": "2024-04-26T00:44:23.462421",
     "exception": false,
     "start_time": "2024-04-26T00:44:21.779835",
     "status": "completed"
    },
    "tags": []
   },
   "outputs": [
    {
     "data": {
      "text/html": [
       "<iframe\n",
       "    scrolling=\"no\"\n",
       "    width=\"100%\"\n",
       "    height=\"545px\"\n",
       "    src=\"iframe_figures/figure_17.html\"\n",
       "    frameborder=\"0\"\n",
       "    allowfullscreen\n",
       "></iframe>\n"
      ]
     },
     "metadata": {},
     "output_type": "display_data"
    }
   ],
   "source": [
    "import statsmodels.api as sm\n",
    "\n",
    "new_data = data.copy()\n",
    "new_data['Date'] = pd.to_datetime(new_data.index)\n",
    "new_data.set_index('Date', inplace=True)\n",
    "new_data = new_data.asfreq('ME')\n",
    "new_data.fillna(new_data.mode().iloc[0], inplace=True)\n",
    "\n",
    "decomposicao = sm.tsa.seasonal_decompose(pd.DataFrame(new_data['Close']), model='additive')\n",
    "\n",
    "fig = go.Figure()\n",
    "\n",
    "fig.add_trace(go.Scatter(x=data.index,y=data.Close,mode='lines',name='Original'))\n",
    "fig.add_trace(go.Scatter(x=decomposicao.trend.index,y=decomposicao.trend.values,mode='lines',name='Tendência'))\n",
    "fig.add_trace(go.Scatter(x=decomposicao.seasonal.index,y=decomposicao.seasonal.values,mode='lines',name='Sazonalidade'))\n",
    "fig.add_trace(go.Scatter(x=decomposicao.resid.index,y=decomposicao.resid.values,mode='lines',name='Residuo'))\n",
    "\n",
    "fig.update_layout(title='Decomposição: Análise de tendência e sazonalidade: Modelo aditivo',\n",
    "                  xaxis_title='Data',\n",
    "                  yaxis_title='Valor',\n",
    "                  hovermode='x')\n",
    "\n",
    "fig.show(renderer='iframe')"
   ]
  },
  {
   "cell_type": "code",
   "execution_count": 18,
   "id": "c7c42de8",
   "metadata": {
    "execution": {
     "iopub.execute_input": "2024-04-26T00:44:23.483063Z",
     "iopub.status.busy": "2024-04-26T00:44:23.482539Z",
     "iopub.status.idle": "2024-04-26T00:44:23.606194Z",
     "shell.execute_reply": "2024-04-26T00:44:23.605122Z"
    },
    "papermill": {
     "duration": 0.136556,
     "end_time": "2024-04-26T00:44:23.608634",
     "exception": false,
     "start_time": "2024-04-26T00:44:23.472078",
     "status": "completed"
    },
    "tags": []
   },
   "outputs": [
    {
     "data": {
      "text/html": [
       "<iframe\n",
       "    scrolling=\"no\"\n",
       "    width=\"100%\"\n",
       "    height=\"545px\"\n",
       "    src=\"iframe_figures/figure_18.html\"\n",
       "    frameborder=\"0\"\n",
       "    allowfullscreen\n",
       "></iframe>\n"
      ]
     },
     "metadata": {},
     "output_type": "display_data"
    }
   ],
   "source": [
    "import statsmodels.api as sm\n",
    "\n",
    "new_data = data.copy()\n",
    "new_data['Date'] = pd.to_datetime(new_data.index)\n",
    "new_data.set_index('Date', inplace=True)\n",
    "new_data = new_data.asfreq('ME')\n",
    "new_data.fillna(new_data.mode().iloc[0], inplace=True)\n",
    "\n",
    "decomposicao = sm.tsa.seasonal_decompose(pd.DataFrame(new_data['Close']), model='multiplicative')\n",
    "\n",
    "fig = go.Figure()\n",
    "\n",
    "fig.add_trace(go.Scatter(x=data.index,y=data.Close,mode='lines',name='Original'))\n",
    "fig.add_trace(go.Scatter(x=decomposicao.trend.index,y=decomposicao.trend.values,mode='lines',name='Tendência'))\n",
    "fig.add_trace(go.Scatter(x=decomposicao.seasonal.index,y=decomposicao.seasonal.values,mode='lines',name='Sazonalidade'))\n",
    "fig.add_trace(go.Scatter(x=decomposicao.resid.index,y=decomposicao.resid.values,mode='lines',name='Residuo'))\n",
    "\n",
    "fig.update_layout(title='Decomposição: Análise de tendência e sazonalidade: modelo multiplicativo',\n",
    "                  xaxis_title='Data',\n",
    "                  yaxis_title='Valor',\n",
    "                  hovermode='x')\n",
    "\n",
    "fig.show(renderer='iframe')\n"
   ]
  }
 ],
 "metadata": {
  "kaggle": {
   "accelerator": "none",
   "dataSources": [
    {
     "datasetId": 1642789,
     "sourceId": 8227837,
     "sourceType": "datasetVersion"
    }
   ],
   "dockerImageVersionId": 30698,
   "isGpuEnabled": false,
   "isInternetEnabled": true,
   "language": "python",
   "sourceType": "notebook"
  },
  "kernelspec": {
   "display_name": "Python 3",
   "language": "python",
   "name": "python3"
  },
  "language_info": {
   "codemirror_mode": {
    "name": "ipython",
    "version": 3
   },
   "file_extension": ".py",
   "mimetype": "text/x-python",
   "name": "python",
   "nbconvert_exporter": "python",
   "pygments_lexer": "ipython3",
   "version": "3.10.13"
  },
  "papermill": {
   "default_parameters": {},
   "duration": 9.856923,
   "end_time": "2024-04-26T00:44:24.240391",
   "environment_variables": {},
   "exception": null,
   "input_path": "__notebook__.ipynb",
   "output_path": "__notebook__.ipynb",
   "parameters": {},
   "start_time": "2024-04-26T00:44:14.383468",
   "version": "2.5.0"
  }
 },
 "nbformat": 4,
 "nbformat_minor": 5
}
